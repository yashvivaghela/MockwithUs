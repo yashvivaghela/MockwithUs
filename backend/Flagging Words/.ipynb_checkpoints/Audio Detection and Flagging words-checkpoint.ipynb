{
 "cells": [
  {
   "cell_type": "code",
   "execution_count": 1,
   "id": "dbef534f",
   "metadata": {},
   "outputs": [],
   "source": [
    "# import required libraries\n",
    "import sounddevice as sd\n",
    "from scipy.io.wavfile import write\n",
    "import wavio as wv\n",
    "\n",
    "# Sampling frequency\n",
    "frequency = 44400\n",
    "\n",
    "# Recording duration in seconds\n",
    "duration = 10\n",
    "\n",
    "# to record audio from\n",
    "# sound-device into a Numpy\n",
    "\n",
    "recording = sd.rec(int(duration * frequency),\n",
    "                    samplerate = frequency, channels = 1)\n",
    "\n",
    "# Wait for the audio to complete\n",
    "sd.wait()\n",
    "\n",
    "# using scipy to save the recording in .wav format\n",
    "# This will convert the NumPy array\n",
    "# to an audio file with the given sampling frequency\n",
    "write(\"record0.wav\", frequency, recording)\n",
    "\n",
    "# using wavio to save the recording in .wav format\n",
    "# This will convert the NumPy array to an audio\n",
    "# file with the given sampling frequency\n",
    "wv.write(\"record1.wav\", recording, frequency, sampwidth=2)\n"
   ]
  },
  {
   "cell_type": "code",
   "execution_count": 2,
   "id": "15878c02",
   "metadata": {},
   "outputs": [
    {
     "name": "stdout",
     "output_type": "stream",
     "text": [
      "Text: hello my name is Yashvi and I hate when I am nervous\n"
     ]
    }
   ],
   "source": [
    "# Initialize the recognizer from sppech_recognition\n",
    "import speech_recognition as sr\n",
    "r = sr.Recognizer()\n",
    "# reading from a wav file\n",
    "audio=sr.AudioFile('record1.wav')\n",
    "with audio as source:\n",
    "    audio = r.record(source)\n",
    "try:\n",
    "    #use google speech recognition\n",
    "    s = r.recognize_google(audio)\n",
    "    print(\"Text: \"+s)\n",
    "except Exception as e:\n",
    "    print(\"Exception: \"+str(e))"
   ]
  },
  {
   "cell_type": "code",
   "execution_count": 3,
   "id": "7ab3753a",
   "metadata": {},
   "outputs": [],
   "source": [
    "with open ('text.txt', 'w') as file:  \n",
    "    for s in s:  \n",
    "        file.write(s) "
   ]
  },
  {
   "cell_type": "code",
   "execution_count": 4,
   "id": "d8c502c8",
   "metadata": {},
   "outputs": [],
   "source": [
    "import spacy\n",
    "#import the phrase matcher\n",
    "from spacy.matcher import PhraseMatcher\n",
    "\n",
    "#load a model and create nlp object\n",
    "nlp = spacy.load('en_core_web_sm')\n",
    "\n",
    "#initilize the matcher with a shared vocab\n",
    "matcher = PhraseMatcher(nlp.vocab)\n",
    "\n",
    "#create the list of words to match\n",
    "phrases = ['whatever','hate','nervous']\n",
    "\n",
    "patterns = [nlp(text) for text in phrases]\n",
    "\n",
    "#you need to add your phrase list to the phrase matcher.\n",
    "matcher.add('AI', None, *patterns)"
   ]
  },
  {
   "cell_type": "code",
   "execution_count": 5,
   "id": "f437e71d",
   "metadata": {},
   "outputs": [
    {
     "name": "stdout",
     "output_type": "stream",
     "text": [
      "hello my name is Yashvi and I hate when I am nervous\n"
     ]
    }
   ],
   "source": [
    "doc=open('text.txt','r')\n",
    "with open('text.txt') as f:\n",
    "    # contents = f.readlines()\n",
    "    contents=f.read().rstrip()\n",
    "print(contents)"
   ]
  },
  {
   "cell_type": "markdown",
   "id": "a91f29e3",
   "metadata": {
    "id": "w2abmtpkSaR0"
   },
   "source": [
    "##Remove stopwords"
   ]
  },
  {
   "cell_type": "code",
   "execution_count": 35,
   "id": "c0726b7f",
   "metadata": {
    "scrolled": true
   },
   "outputs": [
    {
     "name": "stdout",
     "output_type": "stream",
     "text": [
      "['hello', 'this', 'is', 'Yashvi', 'Vakil', 'and', 'I', 'hate', 'when', 'I', 'am', 'nervous']\n",
      "['hello', 'Yashvi', 'Vakil', 'I', 'hate', 'I', 'nervous']\n",
      "hello Yashvi Vakil I hate I nervous\n"
     ]
    },
    {
     "name": "stderr",
     "output_type": "stream",
     "text": [
      "[nltk_data] Downloading package punkt to\n",
      "[nltk_data]     /Users/yashvivaghela/nltk_data...\n",
      "[nltk_data]   Package punkt is already up-to-date!\n",
      "[nltk_data] Downloading package stopwords to\n",
      "[nltk_data]     /Users/yashvivaghela/nltk_data...\n",
      "[nltk_data]   Package stopwords is already up-to-date!\n"
     ]
    }
   ],
   "source": [
    "import nltk as nltk\n",
    "from nltk.corpus import stopwords\n",
    "from nltk.tokenize import word_tokenize\n",
    "nltk.download('punkt')\n",
    "nltk.download('stopwords')\n",
    "    \n",
    "stop_words = set(stopwords.words('english'))\n",
    "  \n",
    "word_tokens = word_tokenize(contents)\n",
    "  \n",
    "filtered_sentence = [w for w in word_tokens if not w.lower() in stop_words]\n",
    "  \n",
    "filtered_sentence = []\n",
    "  \n",
    "for w in word_tokens:\n",
    "    if w not in stop_words:\n",
    "        filtered_sentence.append(w)\n",
    "  \n",
    "print(word_tokens)\n",
    "print(filtered_sentence)\n",
    "   \n",
    "# Function to convert \n",
    "def listToString(s):\n",
    "   \n",
    "    # initialize an empty string\n",
    "    str1 = \" \"\n",
    "   \n",
    "    # return string \n",
    "    return (str1.join(s))\n",
    "       \n",
    "# Driver code\n",
    "\n",
    "filtered_sentence= listToString(filtered_sentence)\n",
    "print(filtered_sentence)"
   ]
  },
  {
   "cell_type": "code",
   "execution_count": 36,
   "id": "611f4bd3",
   "metadata": {},
   "outputs": [],
   "source": [
    "sentence = nlp(filtered_sentence)\n",
    "matches = matcher(sentence)"
   ]
  },
  {
   "cell_type": "code",
   "execution_count": 37,
   "id": "c81a5e63",
   "metadata": {},
   "outputs": [
    {
     "name": "stdout",
     "output_type": "stream",
     "text": [
      "Words you are not suppose to use:- \n",
      "\n",
      "hate\n",
      "nervous\n"
     ]
    }
   ],
   "source": [
    "print(\"Words you are not suppose to use:- \\n\")\n",
    "for match_id, start, end in matches:\n",
    "    span = sentence[start:end]\n",
    "    print(span.text)"
   ]
  }
 ],
 "metadata": {
  "kernelspec": {
   "display_name": "Python 3 (ipykernel)",
   "language": "python",
   "name": "python3"
  },
  "language_info": {
   "codemirror_mode": {
    "name": "ipython",
    "version": 3
   },
   "file_extension": ".py",
   "mimetype": "text/x-python",
   "name": "python",
   "nbconvert_exporter": "python",
   "pygments_lexer": "ipython3",
   "version": "3.10.8"
  }
 },
 "nbformat": 4,
 "nbformat_minor": 5
}
