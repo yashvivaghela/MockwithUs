{
 "cells": [
  {
   "cell_type": "code",
   "execution_count": 77,
   "id": "7685cf06",
   "metadata": {},
   "outputs": [],
   "source": [
    "import speech_recognition as sr\n",
    "import time\n",
    "import os "
   ]
  },
  {
   "cell_type": "code",
   "execution_count": 78,
   "id": "2cf1a4a7",
   "metadata": {},
   "outputs": [
    {
     "name": "stdout",
     "output_type": "stream",
     "text": [
      "Start speaking....\n"
     ]
    }
   ],
   "source": [
    "# Initialize the recognizer from sppech_recognition\n",
    "r= sr.Recognizer()\n",
    "# obtain the audi from the microphone\n",
    "mic = sr.Microphone()\n",
    "max_time = 10\n",
    "start_time = time.time()  # remember when we started\n",
    "# keep listening for the stipulated time \n",
    "#and obtain the audio from microphone\n",
    "while (time.time() - start_time) < max_time:\n",
    "     print(\"Start speaking....\")\n",
    "     with mic as source:\n",
    "        audio= r.listen(source)\n",
    "# write the audio to a wav file\n",
    "with open(\"my_audio.wav\", \"wb\") as file:\n",
    "        file.write(audio.get_wav_data())\n",
    "    "
   ]
  },
  {
   "cell_type": "code",
   "execution_count": 79,
   "id": "11e93f82",
   "metadata": {},
   "outputs": [
    {
     "name": "stdout",
     "output_type": "stream",
     "text": [
      "Text: hello hello group 49 project mike testing mike testing 123 mike testing\n"
     ]
    }
   ],
   "source": [
    "# Initialize the recognizer from sppech_recognition\n",
    "r = sr.Recognizer()\n",
    "# reading from a wav file\n",
    "audio=sr.AudioFile('my_audio.wav')\n",
    "with audio as source:\n",
    "    audio = r.record(source)\n",
    "try:\n",
    "    #use google speech recognition\n",
    "    s = r.recognize_google(audio)\n",
    "    print(\"Text: \"+s)\n",
    "except Exception as e:\n",
    "    print(\"Exception: \"+str(e))"
   ]
  },
  {
   "cell_type": "code",
   "execution_count": 80,
   "id": "2a66793e",
   "metadata": {},
   "outputs": [],
   "source": [
    "with open ('text.txt', 'w') as file:  \n",
    "    for s in s:  \n",
    "        file.write(s)   "
   ]
  }
 ],
 "metadata": {
  "kernelspec": {
   "display_name": "Python 3 (ipykernel)",
   "language": "python",
   "name": "python3"
  },
  "language_info": {
   "codemirror_mode": {
    "name": "ipython",
    "version": 3
   },
   "file_extension": ".py",
   "mimetype": "text/x-python",
   "name": "python",
   "nbconvert_exporter": "python",
   "pygments_lexer": "ipython3",
   "version": "3.10.8"
  }
 },
 "nbformat": 4,
 "nbformat_minor": 5
}
